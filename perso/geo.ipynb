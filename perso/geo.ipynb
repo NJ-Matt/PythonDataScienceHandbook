{
 "cells": [
  {
   "cell_type": "code",
   "execution_count": 2,
   "metadata": {},
   "outputs": [],
   "source": [
    "import numpy as np"
   ]
  },
  {
   "cell_type": "code",
   "execution_count": 3,
   "metadata": {},
   "outputs": [],
   "source": [
    "import matplotlib.pyplot as plt"
   ]
  },
  {
   "cell_type": "code",
   "execution_count": 4,
   "metadata": {},
   "outputs": [],
   "source": [
    "%matplotlib inline"
   ]
  },
  {
   "cell_type": "code",
   "execution_count": 5,
   "metadata": {},
   "outputs": [],
   "source": [
    "import pandas as pd"
   ]
  },
  {
   "cell_type": "code",
   "execution_count": 6,
   "metadata": {},
   "outputs": [],
   "source": [
    "cities = pd.read_csv('../notebooks/data/california_cities.csv')"
   ]
  },
  {
   "cell_type": "code",
   "execution_count": 7,
   "metadata": {},
   "outputs": [
    {
     "name": "stdout",
     "output_type": "stream",
     "text": [
      "<class 'pandas.core.frame.DataFrame'>\n",
      "RangeIndex: 482 entries, 0 to 481\n",
      "Data columns (total 14 columns):\n",
      "Unnamed: 0            482 non-null int64\n",
      "city                  482 non-null object\n",
      "latd                  482 non-null float64\n",
      "longd                 482 non-null float64\n",
      "elevation_m           434 non-null float64\n",
      "elevation_ft          470 non-null float64\n",
      "population_total      482 non-null int64\n",
      "area_total_sq_mi      480 non-null float64\n",
      "area_land_sq_mi       482 non-null float64\n",
      "area_water_sq_mi      481 non-null float64\n",
      "area_total_km2        477 non-null float64\n",
      "area_land_km2         478 non-null float64\n",
      "area_water_km2        478 non-null float64\n",
      "area_water_percent    477 non-null float64\n",
      "dtypes: float64(11), int64(2), object(1)\n",
      "memory usage: 52.8+ KB\n"
     ]
    }
   ],
   "source": [
    "cities.info()"
   ]
  },
  {
   "cell_type": "code",
   "execution_count": null,
   "metadata": {},
   "outputs": [],
   "source": []
  }
 ],
 "metadata": {
  "kernelspec": {
   "display_name": "Python 3",
   "language": "python",
   "name": "python3"
  },
  "language_info": {
   "codemirror_mode": {
    "name": "ipython",
    "version": 3
   },
   "file_extension": ".py",
   "mimetype": "text/x-python",
   "name": "python",
   "nbconvert_exporter": "python",
   "pygments_lexer": "ipython3",
   "version": "3.7.0"
  }
 },
 "nbformat": 4,
 "nbformat_minor": 2
}
